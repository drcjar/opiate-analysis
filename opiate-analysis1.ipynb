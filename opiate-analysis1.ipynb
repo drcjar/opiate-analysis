{
 "cells": [
  {
   "cell_type": "code",
   "execution_count": 1,
   "metadata": {
    "collapsed": true
   },
   "outputs": [],
   "source": [
    "import os, datetime\n",
    "import pandas as pd\n",
    "import pickle\n",
    "import folium\n",
    "from pandas import Series, DataFrame, Panel\n",
    "from datetime import datetime, date, time"
   ]
  },
  {
   "cell_type": "code",
   "execution_count": 22,
   "metadata": {
    "collapsed": true
   },
   "outputs": [],
   "source": [
    "# cuts gp prescribing data for rows containing patterns of interest as dataframes\n",
    "\n",
    "def pattern_timeseries(pattern):\n",
    "    \n",
    "    pathtodata = '/drcjar/pidiskprescribing_data/bnf/'#set to the directory with bnf CSVs in\n",
    "    pathtopatterns = '/drcjar/pidiskprescribing_data/patterns/' \n",
    "    pathtopickles = '/drcjar/pidisk/prescribing_data/pickles/'\n",
    "    \n",
    "    os.chdir(pathtodata)\n",
    "    \n",
    "    files = !ls T2*\n",
    "    \n",
    "    global pattern_df\n",
    "    \n",
    "    clean_filenames = []\n",
    "\n",
    "    for f in files.l:\n",
    "        clean_filenames.append(f[:7]) #clean up filenames so that grep will work\n",
    "        \n",
    "    for i, item in enumerate(clean_filenames):\n",
    "        date = clean_filenames[i].replace('T', '')\n",
    "        date = pd.to_datetime(date, format=\"%Y%m\") #make pandas know the date is a date\n",
    "        name = \"bnf_%s_%.10s.csv\" % (pattern, date) #create a name for new csv of grep for pattern using date from file name\n",
    "        print (\"writing %s\" % name)\n",
    "        !fgrep $pattern {clean_filenames[i]}* > $pathtopatterns/$name #grep for pattern in csv files and write to file \n",
    "    \n",
    "    pattern_files = !ls $pathtopatterns*$pattern*\n",
    "    \n",
    "    cols = ['SHA', 'PCT', 'PRACTICE', 'BNF_CODE', 'BNF_NAME', 'ITEMS', 'NIC', 'ACT_COST', 'QUANTITY', 'DateTime', 'Index']\n",
    "    \n",
    "    practices_est = 10000 #estimated number of practices\n",
    "    \n",
    "    df_list = [pd.read_csv(file, names=cols) for file in pattern_files] \n",
    "            \n",
    "    pattern_df = pd.concat(df_list)\n",
    "    \n",
    "    pattern_df['DateTime'] = pattern_df['DateTime'].astype('|S6') \n",
    "    pattern_df['DateTime'] = pd.to_datetime(pattern_df['DateTime'], format=\"%Y%m\")\n",
    "    \n",
    "    os.chdir(pathtopickles)\n",
    "\n",
    "    pattern_df.to_pickle('%s.pkl' % pattern)\n",
    "                    \n",
    "    return(pattern_df)\n",
    "\n"
   ]
  },
  {
   "cell_type": "code",
   "execution_count": 23,
   "metadata": {
    "collapsed": true
   },
   "outputs": [],
   "source": [
    "# define our opiates\n",
    "Opiates = ['Codeine', 'Dihydrocodeine', 'Tramadol', 'Tapentadol', 'Buprenorphine', 'Fentanyl', 'Methadone', 'Morph', 'Oxycodone']\n",
    "\n",
    "# commented because have run to Feb 2014\n",
    "# for opiate in Opiates:\n",
    "#    pattern_timeseries(opiate)"
   ]
  },
  {
   "cell_type": "code",
   "execution_count": 2,
   "metadata": {
    "collapsed": true
   },
   "outputs": [],
   "source": [
    "# load pickles\n",
    "pathtopickles = '/media/drcjar/pidisk/prescribing_data/pickles/'\n",
    "os.chdir(pathtopickles)"
   ]
  },
  {
   "cell_type": "code",
   "execution_count": 3,
   "metadata": {
    "collapsed": true
   },
   "outputs": [],
   "source": [
    "CCGPopData = pd.read_pickle('CCGPopData.pkl')\n",
    "GPCCGMap = pd.read_pickle('GPCCGMap.pkl')"
   ]
  },
  {
   "cell_type": "code",
   "execution_count": 4,
   "metadata": {
    "collapsed": true
   },
   "outputs": [],
   "source": [
    "Codeine = pd.read_pickle('Codeine.pkl')\n",
    "Dihydrocodeine = pd.read_pickle('Dihydrocodeine.pkl')\n",
    "Tramadol = pd.read_pickle('Tramadol.pkl')\n",
    "Tapentadol = pd.read_pickle('Tapentadol.pkl')\n",
    "Buprenorphine = pd.read_pickle('Buprenorphine.pkl')\n",
    "Fentanyl = pd.read_pickle('Fentanyl.pkl')\n",
    "Methadone = pd.read_pickle('Methadone.pkl')\n",
    "Morph = pd.read_pickle('Morph.pkl')\n",
    "Oxycodone = pd.read_pickle('Oxycodone.pkl')"
   ]
  },
  {
   "cell_type": "code",
   "execution_count": 5,
   "metadata": {
    "collapsed": true
   },
   "outputs": [],
   "source": [
    "# prescribing data don't contain a quantity that's a quantity\n",
    "# work out quantity in mg from prep information and quantity.. \n",
    "\n",
    "pathtocsv = '/media/drcjar/pidisk/prescribing_data/xls/csv'\n",
    "os.chdir(pathtocsv)\n",
    "\n",
    "Codeine['BNF_NAME'] = Codeine['BNF_NAME'].map(str.strip) #get rid of white space\n",
    "codeine_preps = Codeine['BNF_NAME'].unique().tolist() #get a list of preparation names\n",
    "codeine_doses = [3, 3, 0.6, 60, 5, 15, 30, 60, 3.2, 12.8, 8, 1.35, 12.8, 2, 8, 6, 1, 0.6, 10, 5, 30, 15, 30, 12] #codeine in mg for each prep\n",
    "codeine_dose_lookup = dict(zip(codeine_preps, codeine_doses)) #make dict of prep names and codeine doses\n",
    "Codeine['QUANTITY_IN_MG'] = Codeine['BNF_NAME'].map(lambda x: codeine_dose_lookup[x]) * Codeine['QUANTITY']\n",
    "\n",
    "# Dihydrocodeine\n",
    "# work out quantity in mg from prep information and quantity\n",
    "df = pd.read_csv('Dihydrocodeine.csv') #lookup prepared by colleague\n",
    "Dihydrocodeine['BNF_NAME'] = Dihydrocodeine['BNF_NAME'].map(str.strip) #get rid of white space\n",
    "dihydrocodeine_preps = Dihydrocodeine['BNF_NAME'].unique().tolist() #get a list of preparation names\n",
    "dihydrocodeine_doses = df['mg of drug per unit of preparation'].str.replace('mg', '').astype(float).tolist() #remove the mg my collaborator added\n",
    "dihydrocodeine_dose_lookup = dict(zip(dihydrocodeine_preps, dihydrocodeine_doses)) #make dict of prep names and codeine doses\n",
    "Dihydrocodeine['QUANTITY_IN_MG'] = Dihydrocodeine['BNF_NAME'].map(lambda x: dihydrocodeine_dose_lookup[x]) * Dihydrocodeine['QUANTITY']\n",
    "\n",
    "# Tramadol\n",
    "# work out quantity in mg from prep information and quantity\n",
    "df = pd.read_csv('Tramadol.csv') #lookup prepared by colleague\n",
    "Tramadol['BNF_NAME'] = Tramadol['BNF_NAME'].map(str.strip) #get rid of white space\n",
    "tramadol_preps = Tramadol['BNF_NAME'].unique().tolist() #get a list of preparation names\n",
    "tramadol_doses = df['mg of drug per unit of preparation'].tolist() #remove the mg my collaborator added\n",
    "tramadol_dose_lookup = dict(zip(tramadol_preps, tramadol_doses)) #make dict of prep names and codeine doses\n",
    "Tramadol['QUANTITY_IN_MG'] = Tramadol['BNF_NAME'].map(lambda x: tramadol_dose_lookup[x]) * Tramadol['QUANTITY']\n",
    "\n",
    "# Tapentadol\n",
    "# work out quantity in mg from prep information and quantity\n",
    "df = pd.read_csv('Tapentadol.csv') #lookup prepared by colleague\n",
    "Tapentadol['BNF_NAME'] = Tapentadol['BNF_NAME'].map(str.strip) #get rid of white space\n",
    "tapentadol_preps = Tapentadol['BNF_NAME'].unique().tolist() #get a list of preparation names\n",
    "tapentadol_doses = df['mg of drug per unit of preparation'].tolist() #remove the mg my collaborator added\n",
    "tapentadol_dose_lookup = dict(zip(tapentadol_preps, tapentadol_doses)) #make dict of prep names and codeine doses\n",
    "Tapentadol['QUANTITY_IN_MG'] = Tapentadol['BNF_NAME'].map(lambda x: tapentadol_dose_lookup[x]) * Tapentadol['QUANTITY']\n",
    "\n",
    "# Buprenorphine\n",
    "# work out quantity in mg from prep information and quantity\n",
    "df = pd.read_csv('Buprenorphine.csv') #lookup prepared by colleague\n",
    "Buprenorphine['BNF_NAME'] = Buprenorphine['BNF_NAME'].map(str.strip) #get rid of white space\n",
    "buprenorphine_preps = Buprenorphine['BNF_NAME'].unique().tolist() #get a list of preparation names\n",
    "buprenorphine_doses = df['mg of drug per unit of preparation'].str.replace('mg', '').astype(float).tolist() #remove the mg my collaborator added\n",
    "buprenorphine_dose_lookup = dict(zip(buprenorphine_preps, buprenorphine_doses)) #make dict of prep names and codeine doses\n",
    "Buprenorphine['QUANTITY_IN_MG'] = Buprenorphine['BNF_NAME'].map(lambda x: buprenorphine_dose_lookup[x]) * Buprenorphine['QUANTITY']\n",
    "\n",
    "# Fentanyl\n",
    "# work out quantity in mg from prep information and quantity\n",
    "df = pd.read_csv('Fentanyl.csv') #lookup prepared by colleague\n",
    "Fentanyl['BNF_NAME'] = Fentanyl['BNF_NAME'].map(str.strip) #get rid of white space\n",
    "fentanyl_preps = Fentanyl['BNF_NAME'].unique().tolist() #get a list of preparation names\n",
    "fentanyl_doses = df['mg of drug per unit of preparation'].tolist() #remove the mg my collaborator added\n",
    "fentanyl_dose_lookup = dict(zip(fentanyl_preps, fentanyl_doses)) #make dict of prep names and codeine doses\n",
    "Fentanyl['QUANTITY_IN_MG'] = Fentanyl['BNF_NAME'].map(lambda x: fentanyl_dose_lookup[x]) * Fentanyl['QUANTITY']\n",
    "\n",
    "# Methadone\n",
    "# work out quantity in mg from prep information and quantity\n",
    "df = pd.read_csv('Methadone.csv') #lookup prepared by colleague\n",
    "Methadone['BNF_NAME'] = Methadone['BNF_NAME'].map(str.strip) #get rid of white space\n",
    "methadone_preps = Methadone['BNF_NAME'].unique().tolist() #get a list of preparation names\n",
    "methadone_doses = df['mg of drug per unit of preparation'].str.replace('tbc', '0')#remove the mg my collaborator added\n",
    "methadone_doses = methadone_doses.astype(float).tolist()\n",
    "methadone_dose_lookup = dict(zip(methadone_preps, methadone_doses)) #make dict of prep names and codeine doses\n",
    "Methadone['QUANTITY_IN_MG'] = Methadone['BNF_NAME'].map(lambda x: methadone_dose_lookup[x]) * Methadone['QUANTITY']\n",
    "\n",
    "# Morphine\n",
    "# work out quantity in mg from prep information and quantity\n",
    "df = pd.read_csv('Morphine.csv') #lookup prepared by colleague\n",
    "Morph['BNF_NAME'] = Morph['BNF_NAME'].map(str.strip) #get rid of white space\n",
    "morphine_preps = Morph['BNF_NAME'].unique().tolist() #get a list of preparation names\n",
    "morphine_doses = df['mg of drug per unit of preparation'].str.replace('tbc', '0')\n",
    "morphine_doses = morphine_doses.astype(float).tolist() #remove the mg my collaborator added\n",
    "morphine_dose_lookup = dict(zip(morphine_preps, morphine_doses)) #make dict of prep names and codeine doses\n",
    "Morph['QUANTITY_IN_MG'] = Morph['BNF_NAME'].map(lambda x: morphine_dose_lookup[x]) * Morph['QUANTITY']\n",
    "\n",
    "# Oxycodone\n",
    "# work out quantity in mg from prep information and quantity\n",
    "df = pd.read_csv('Oxycodone.csv') #lookup prepared by colleague\n",
    "Oxycodone['BNF_NAME'] = Oxycodone['BNF_NAME'].map(str.strip) #get rid of white space\n",
    "oxycodone_preps = Oxycodone['BNF_NAME'].unique().tolist() #get a list of preparation names\n",
    "oxycodone_doses = df['mg of drug per unit of preparation'].tolist()\n",
    "oxycodone_dose_lookup = dict(zip(oxycodone_preps, oxycodone_doses)) #make dict of prep names and codeine doses\n",
    "Oxycodone['QUANTITY_IN_MG'] = Oxycodone['BNF_NAME'].map(lambda x: oxycodone_dose_lookup[x]) * Oxycodone['QUANTITY']"
   ]
  },
  {
   "cell_type": "code",
   "execution_count": 6,
   "metadata": {
    "collapsed": true
   },
   "outputs": [],
   "source": [
    "df_list = [Codeine, Dihydrocodeine, Tramadol, Tapentadol, Buprenorphine, Fentanyl, Methadone, Morph, Oxycodone]\n",
    "opiate_lookup = {0:'Codeine', 1:'Dihydrocodeine', 2:'Tramadol', 3:'Tapentadol', 4:'Buprenorphine', 5:'Fentanyl', 6:'Methadone', 7:'Morphine', 8:'Oxycodone'}"
   ]
  },
  {
   "cell_type": "code",
   "execution_count": 7,
   "metadata": {
    "collapsed": true
   },
   "outputs": [],
   "source": [
    "CCGPopData['Population'] = CCGPopData['Population'].str.replace(',','')\n",
    "CCGPopData['Population'] = CCGPopData['Population'].astype(float)\n",
    "\n",
    "for i, item in enumerate(df_list):\n",
    "    df_list[i] = df_list[i][['DateTime', 'PRACTICE', 'QUANTITY_IN_MG']]\n",
    "    df_list[i] = pd.merge(df_list[i], GPCCGMap, on='PRACTICE')\n",
    "    df_list[i] = df_list[i].groupby(['CCGCODE', 'DateTime']).QUANTITY_IN_MG.sum() #group by ccg and date time, sum the mg of codeine\n",
    "    df_list[i] = DataFrame(df_list[i]).reset_index()\n",
    "    df_list[i] = pd.merge(df_list[i], CCGPopData, on='CCGCODE')\n",
    "    df_list[i]['QUANTITY_IN_MG_PER_PERSON'] = df_list[i]['QUANTITY_IN_MG'] / df_list[i]['Population'] \n",
    "    df_list[i]['Drug'] = opiate_lookup[i]\n",
    "    df_list[i] = df_list[i][['DateTime', 'CCG_Name', 'CCG13CD', 'Drug', 'QUANTITY_IN_MG', 'Population', 'QUANTITY_IN_MG_PER_PERSON']]\n",
    "    df_list[i]['CCG_Name'] = df_list[i]['CCG_Name'].str.strip()"
   ]
  },
  {
   "cell_type": "code",
   "execution_count": 12,
   "metadata": {
    "collapsed": true
   },
   "outputs": [],
   "source": [
    "df = pd.concat(df_list) "
   ]
  },
  {
   "cell_type": "code",
   "execution_count": null,
   "metadata": {
    "collapsed": true
   },
   "outputs": [],
   "source": [
    "grouped = df.groupby('CCG13CD').QUANTITY_IN_MG_PER_PERSON.sum().reset_index()"
   ]
  },
  {
   "cell_type": "code",
   "execution_count": null,
   "metadata": {
    "collapsed": true
   },
   "outputs": [],
   "source": [
    "grouped.to_csv('ccgtotalopiate.csv')"
   ]
  }
 ],
 "metadata": {
  "kernelspec": {
   "display_name": "Python 3",
   "language": "python",
   "name": "python3"
  },
  "language_info": {
   "codemirror_mode": {
    "name": "ipython",
    "version": 3
   },
   "file_extension": ".py",
   "mimetype": "text/x-python",
   "name": "python",
   "nbconvert_exporter": "python",
   "pygments_lexer": "ipython3",
   "version": "3.5.2"
  }
 },
 "nbformat": 4,
 "nbformat_minor": 2
}
