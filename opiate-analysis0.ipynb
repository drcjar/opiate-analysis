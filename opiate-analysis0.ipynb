{
 "cells": [
  {
   "cell_type": "markdown",
   "metadata": {},
   "source": [
    "# Goal: Describe CCG opiate prescribing in England using the GP prescribing data."
   ]
  },
  {
   "cell_type": "code",
   "execution_count": null,
   "metadata": {
    "collapsed": true
   },
   "outputs": [],
   "source": [
    "import os, datetime\n",
    "import pandas as pd\n",
    "import pickle\n",
    "import folium\n",
    "from pandas import Series, DataFrame, Panel\n",
    "from datetime import datetime, date, time"
   ]
  },
  {
   "cell_type": "code",
   "execution_count": null,
   "metadata": {
    "collapsed": true
   },
   "outputs": [],
   "source": [
    "# Data sources:\n",
    "# wget all the presentation prescribing datas here http://www.hscic.gov.uk/gpprescribingdata\n",
    "# get gp pop sizes and gp-ccg mapping here https://indicators.ic.nhs.uk/download/Clinical%20Commissioning%20Group%20Indicators/Data/GP_registered_patients_2012.csv\n",
    "# get ccg pop sizes here https://indicators.ic.nhs.uk/download/Clinical%20Commissioning%20Group%20Indicators/Data/CCG_registered_patients_2012.csv\n",
    "# get map boundary here https://geoportal.statistics.gov.uk/Docs/Boundaries/Clinical_commissioning_groups_(Eng)_Apr_2013_Boundaries_(Full_Extent).zip\n"
   ]
  },
  {
   "cell_type": "code",
   "execution_count": null,
   "metadata": {
    "collapsed": true
   },
   "outputs": [],
   "source": [
    "# cuts gp prescribing data for rows containing patterns of interest\n",
    "\n",
    "def pattern_timeseries(pattern):\n",
    "    \n",
    "    pathtodata = '/media/drcjar/pidisk/prescribing_data/bnf/' # set to the directory with bnf CSVs in\n",
    "    pathtopatterns = '/media/drcjar/pidisk/prescribing_data/patterns/' \n",
    "    pathtopickles = '/media/drcjar/pidisk/prescribing_data/pickles/'\n",
    "    \n",
    "    os.chdir(pathtodata)\n",
    "    \n",
    "    files = !ls T2*\n",
    "    \n",
    "    global pattern_df\n",
    "    \n",
    "    clean_filenames = []\n",
    "\n",
    "    for f in files.l:\n",
    "        clean_filenames.append(f[:7]) # clean up filenames so that grep will work\n",
    "        \n",
    "    for i, item in enumerate(clean_filenames):\n",
    "        date = clean_filenames[i].replace('T', '')\n",
    "        date = pd.to_datetime(date, format=\"%Y%m\") # make pandas know the date is a date\n",
    "        name = \"bnf_%s_%.10s.csv\" % (pattern, date) # create a name for new csv of grep for pattern using date from file name\n",
    "        print (\"writing %s\" % name)\n",
    "        !fgrep $pattern {clean_filenames[i]}* > $pathtopatterns/$name # grep for pattern in csv files and write to file \n",
    "    \n",
    "    pattern_files = !ls $pathtopatterns*$pattern*\n",
    "    \n",
    "    cols = ['SHA', 'PCT', 'PRACTICE', 'BNF_CODE', 'BNF_NAME', 'ITEMS', 'NIC', 'ACT_COST', 'QUANTITY', 'DateTime', 'Index']\n",
    "    \n",
    "    practices_est = 10000 #estimated number of practices\n",
    "    \n",
    "    df_list = [pd.read_csv(file, names=cols) for file in pattern_files] \n",
    "            \n",
    "    pattern_df = pd.concat(df_list)\n",
    "    \n",
    "    pattern_df['DateTime'] = pattern_df['DateTime'].astype('|S6') \n",
    "    pattern_df['DateTime'] = pd.to_datetime(pattern_df['DateTime'], format=\"%Y%m\")\n",
    "    \n",
    "    os.chdir(pathtopickles)\n",
    "\n",
    "    pattern_df.to_pickle('%s.pkl' % pattern)\n",
    "                    \n",
    "    return(pattern_df)\n"
   ]
  },
  {
   "cell_type": "code",
   "execution_count": null,
   "metadata": {
    "collapsed": true
   },
   "outputs": [],
   "source": [
    "Opiates = ['Codeine', 'Dihydrocodeine', 'Tramadol', 'Tapentadol', 'Buprenorphine', 'Fentanyl', 'Methadone', 'Morph', 'Oxycodone']\n",
    "\n",
    "# commented because have run to Feb 2014\n",
    "# for opiate in Opiates:\n",
    "#   pattern_timeseries(opiate)\n",
    "  "
   ]
  },
  {
   "cell_type": "code",
   "execution_count": null,
   "metadata": {
    "collapsed": true
   },
   "outputs": [],
   "source": [
    "#load prev outputs from above\n",
    "pathtopickles = '/media/drcjar/pidisk/prescribing_data/pickles/'\n",
    "os.chdir(pathtopickles)\n",
    "\n",
    "Codeine = pd.read_pickle('Codeine.pkl')\n",
    "Dihydrocodeine = pd.read_pickle('Dihydrocodeine.pkl')\n",
    "Tramadol = pd.read_pickle('Tramadol.pkl')\n",
    "Tapentadol = pd.read_pickle('Tapentadol.pkl')\n",
    "Buprenorphine = pd.read_pickle('Buprenorphine.pkl')\n",
    "Fentanyl = pd.read_pickle('Fentanyl.pkl')\n",
    "Methadone = pd.read_pickle('Methadone.pkl')\n",
    "Morph = pd.read_pickle('Morph.pkl')\n",
    "Oxycodone = pd.read_pickle('Oxycodone.pkl')\n",
    "Fesoterodine = pd.read_pickle('Fesoterodine.pkl')"
   ]
  },
  {
   "cell_type": "code",
   "execution_count": null,
   "metadata": {
    "collapsed": true
   },
   "outputs": [],
   "source": [
    "Codeine.head()"
   ]
  },
  {
   "cell_type": "code",
   "execution_count": null,
   "metadata": {
    "collapsed": true
   },
   "outputs": [],
   "source": [
    "# work out quantity in mg from prep information and quantity\n",
    "Codeine['BNF_NAME'] = Codeine['BNF_NAME'].map(str.strip) # get rid of white space\n",
    "codeine_preps = Codeine['BNF_NAME'].unique().tolist() # get a list of preparation names\n",
    "codeine_doses = [3, 3, 0.6, 60, 5, 15, 30, 60, 3.2, 12.8, 8, 1.35, 12.8, 2, 8, 6, 1, 0.6, 10, 5, 30, 15, 30, 12] #codeine in mg for each prep\n",
    "codeine_dose_lookup = dict(zip(codeine_preps, codeine_doses)) # make dict of prep names and codeine doses\n",
    "Codeine['QUANTITY_IN_MG'] = Codeine['BNF_NAME'].map(lambda x: codeine_dose_lookup[x]) * Codeine['QUANTITY']"
   ]
  },
  {
   "cell_type": "code",
   "execution_count": null,
   "metadata": {
    "collapsed": true
   },
   "outputs": [],
   "source": [
    "Codeine.PRACTICE.nunique() # number of unique practices in the prescribing dataset"
   ]
  },
  {
   "cell_type": "code",
   "execution_count": null,
   "metadata": {
    "collapsed": true
   },
   "outputs": [],
   "source": [
    "# get details on practices including practice size and which ccg the practice belongs to into a handy format\n",
    "\n",
    "pathtogpdata = '/home/drcjar/Documents/mapping/'\n",
    "os.chdir(pathtogpdata)\n",
    "\n",
    "# prepare GP pop data\n",
    "gppop = pd.read_csv('GP_registered_patients_2012.csv')\n",
    "gppop['Population'] = gppop['Population'].str.replace(',', '') # clean file\n",
    "rows_with_stars = gppop['Population'].str.contains('\\*') # get the rows with * for population\n",
    "gppop = gppop[~rows_with_stars] # throw away rows with * for population\n",
    "gppop['Population'] = gppop['Population'].astype(int) # make the occasional strings in this numerical field into ints\n",
    "gppop = gppop.groupby('GP_Code')\n",
    "gppop = gppop.Population.sum() # because have age strata pops but practice level prescribing\n",
    "gppop = DataFrame(gppop).reset_index()\n",
    "gppop.columns = ['PRACTICE', 'Population']\n",
    "\n",
    "# add gp names\n",
    "gpname = pd.read_csv('PracticeProfiles.csv', usecols=[0,1])\n",
    "\n",
    "# prepare practice to ccg code data\n",
    "gp2ccg = pd.read_csv('practice_to_ccg_codes.csv')\n",
    "gpname.columns = ['PRACTICE', 'Practice Name']\n",
    "gppop = pd.merge(gppop, gpname, on='PRACTICE')\n",
    "\n",
    "# merge GP pop and practice to ccg code data\n",
    "gp2ccg = pd.merge(gppop, gp2ccg, on='PRACTICE')"
   ]
  },
  {
   "cell_type": "code",
   "execution_count": null,
   "metadata": {
    "collapsed": true
   },
   "outputs": [],
   "source": [
    "gppop"
   ]
  },
  {
   "cell_type": "code",
   "execution_count": null,
   "metadata": {
    "collapsed": true
   },
   "outputs": [],
   "source": [
    "CodeineCCG = pd.merge(Codeine, gp2ccg, on='PRACTICE') # merge our prescribing data with our gp infos"
   ]
  },
  {
   "cell_type": "code",
   "execution_count": null,
   "metadata": {
    "collapsed": true
   },
   "outputs": [],
   "source": [
    "CodeineCCG.head()"
   ]
  },
  {
   "cell_type": "code",
   "execution_count": null,
   "metadata": {
    "collapsed": true
   },
   "outputs": [],
   "source": [
    "CodeineCCG.PRACTICE.nunique() # we do not have pop/name/ccg data for all practices 9688 -> 7946"
   ]
  },
  {
   "cell_type": "code",
   "execution_count": null,
   "metadata": {
    "collapsed": true
   },
   "outputs": [],
   "source": [
    "CodeineCCG['QUANTITY_IN_MG_PER_PERSON'] = CodeineCCG['QUANTITY_IN_MG'] / CodeineCCG['Population']\n",
    "CodeineCCG['QUANTITY_IN_MG_PER_PERSON'].max() # what's the most mg of codeine prescribed per person per month?"
   ]
  },
  {
   "cell_type": "code",
   "execution_count": null,
   "metadata": {
    "collapsed": true
   },
   "outputs": [],
   "source": [
    "CodeineCCG['QUANTITY_IN_MG_PER_PERSON'].describe()"
   ]
  },
  {
   "cell_type": "code",
   "execution_count": null,
   "metadata": {
    "collapsed": true
   },
   "outputs": [],
   "source": [
    "CodeineCCG[CodeineCCG['QUANTITY_IN_MG_PER_PERSON'] > 200]  # who's that?"
   ]
  },
  {
   "cell_type": "code",
   "execution_count": null,
   "metadata": {
    "collapsed": true
   },
   "outputs": [],
   "source": [
    "CodeineCCG.index = CodeineCCG.DateTime"
   ]
  },
  {
   "cell_type": "code",
   "execution_count": null,
   "metadata": {
    "collapsed": true
   },
   "outputs": [],
   "source": [
    "PracticeMeanCodeinePerPerson = CodeineCCG.groupby('PRACTICE')['QUANTITY_IN_MG_PER_PERSON'].mean()"
   ]
  },
  {
   "cell_type": "code",
   "execution_count": null,
   "metadata": {
    "collapsed": true
   },
   "outputs": [],
   "source": [
    "PracticeMeanCodeinePerPerson.sort()\n",
    "PracticeMeanCodeinePerPerson.head()"
   ]
  },
  {
   "cell_type": "code",
   "execution_count": null,
   "metadata": {
    "collapsed": true
   },
   "outputs": [],
   "source": [
    "PracticeMeanCodeinePerPerson.tail()"
   ]
  },
  {
   "cell_type": "code",
   "execution_count": null,
   "metadata": {
    "collapsed": true
   },
   "outputs": [],
   "source": [
    "PracticeMeanCodeinePerPerson.median()"
   ]
  },
  {
   "cell_type": "code",
   "execution_count": null,
   "metadata": {
    "collapsed": true
   },
   "outputs": [],
   "source": [
    "PracticeMeanCodeinePerPerson.describe()"
   ]
  },
  {
   "cell_type": "code",
   "execution_count": null,
   "metadata": {
    "collapsed": true
   },
   "outputs": [],
   "source": [
    "plt.title('Codeine Prescribed Per Person by GP Practice for England August 2010 - February 2014 (N=8044)')\n",
    "plt.ylabel('Number of practices')\n",
    "plt.xlabel('Mean Codeine Prescribed Per Person (mg)')\n",
    "\n",
    "PracticeMeanCodeinePerPerson.hist(bins=8044, figsize=(8,8))"
   ]
  },
  {
   "cell_type": "code",
   "execution_count": null,
   "metadata": {
    "collapsed": true
   },
   "outputs": [],
   "source": [
    "plt.title('Monthly Codeine Prescribed Per Person for GP Practices in England \\n August 2010 - February 2014 (N=8044)')\n",
    "plt.ylabel('Mean Codeine Prescribed Per Person (mg)')\n",
    "\n",
    "plt.ylim((0,5))\n",
    "CodeineCCG.groupby('DateTime').QUANTITY_IN_MG_PER_PERSON.mean().plot(linewidth=2.0, figsize=(8,8))\n"
   ]
  },
  {
   "cell_type": "code",
   "execution_count": null,
   "metadata": {
    "collapsed": true
   },
   "outputs": [],
   "source": [
    "CodeineCCGts = CodeineCCG.groupby('DateTime').QUANTITY_IN_MG_PER_PERSON.mean()\n",
    "CodeineCCGts = DataFrame(CodeineCCGts).reset_index()\n",
    "\n",
    "plt.ylim((0,5))\n",
    "CodeineCCGts.boxplot()"
   ]
  },
  {
   "cell_type": "code",
   "execution_count": null,
   "metadata": {
    "collapsed": true
   },
   "outputs": [],
   "source": [
    "# get some ccg information datas involved\n",
    "\n",
    "pathtoccgdata = '/home/sam/Documents/OpenDataAbstract/'\n",
    "os.chdir(pathtoccgdata)\n",
    "ccg_pop = pd.read_csv('ccgcode_pop.csv')\n",
    "ccg_names = pd.read_csv('CCG_name.csv')"
   ]
  },
  {
   "cell_type": "code",
   "execution_count": null,
   "metadata": {
    "collapsed": true
   },
   "outputs": [],
   "source": [
    "ccg_names = ccg_names.drop_duplicates() # deduplicate for merging"
   ]
  },
  {
   "cell_type": "code",
   "execution_count": null,
   "metadata": {
    "collapsed": true
   },
   "outputs": [],
   "source": [
    "ccg_pop = pd.merge(ccg_pop, ccg_names, on='CCGCODE') # merge the info datas\n",
    "ccg_pop.head()\n"
   ]
  },
  {
   "cell_type": "code",
   "execution_count": null,
   "metadata": {
    "collapsed": true
   },
   "outputs": [],
   "source": [
    "grouped = CodeineCCG.groupby(['CCG13CD', 'DateTime']).QUANTITY_IN_MG.sum() # group by ccg and date time, sum the mg of codeine\n",
    "grouped = DataFrame(grouped).reset_index()\n",
    "grouped2 = pd.merge(grouped, ccg_pop, on='CCG13CD')\n",
    "\n",
    "    "
   ]
  },
  {
   "cell_type": "code",
   "execution_count": null,
   "metadata": {
    "collapsed": true
   },
   "outputs": [],
   "source": [
    "grouped2['QUANTITY_IN_MG_PER_PERSON'] = grouped2['QUANTITY_IN_MG'] / grouped2['Population'] # make it per person using ccg pop data\n",
    "grouped2.index = grouped2.DateTime\n",
    "\n",
    "grouped3 = grouped2['2014-02-01'] # lets just have a look at most recent data\n",
    "# grouped3.QUANTITY_IN_MG_PER_PERSON.sort()\n",
    "\n",
    "grouped3.sort(columns='QUANTITY_IN_MG_PER_PERSON').describe() # sort and do summary stats\n"
   ]
  },
  {
   "cell_type": "code",
   "execution_count": null,
   "metadata": {
    "collapsed": true
   },
   "outputs": [],
   "source": [
    "grouped3.sort(columns='QUANTITY_IN_MG_PER_PERSON').min() # which ccg has lowest per person mg of codeine prescribe?"
   ]
  },
  {
   "cell_type": "code",
   "execution_count": null,
   "metadata": {
    "collapsed": true
   },
   "outputs": [],
   "source": [
    "grouped3.sort(columns='QUANTITY_IN_MG_PER_PERSON').max() # which ccg has highest per person mg of codeine prescribe?"
   ]
  },
  {
   "cell_type": "code",
   "execution_count": null,
   "metadata": {
    "collapsed": true
   },
   "outputs": [],
   "source": [
    "grouped3.sort(columns='QUANTITY_IN_MG_PER_PERSON').median()"
   ]
  },
  {
   "cell_type": "code",
   "execution_count": null,
   "metadata": {
    "collapsed": true
   },
   "outputs": [],
   "source": [
    "grouped3['CCG_Name'].count() #210 CCGs"
   ]
  },
  {
   "cell_type": "code",
   "execution_count": null,
   "metadata": {
    "collapsed": true
   },
   "outputs": [],
   "source": [
    "plt.title('Codeine prescribed per person by CCG (N=210)')\n",
    "plt.ylabel('Number of practices')\n",
    "plt.xlabel('(mg)')\n",
    "\n",
    "grouped3['QUANTITY_IN_MG_PER_PERSON'].hist(bins=210)"
   ]
  },
  {
   "cell_type": "code",
   "execution_count": null,
   "metadata": {
    "collapsed": true
   },
   "outputs": [],
   "source": [
    "plt.title('Codeine prescribed per person by CCG (N=210)')\n",
    "plt.ylabel('(mg)')\n",
    "\n",
    "\n",
    "grouped3.boxplot(column='QUANTITY_IN_MG_PER_PERSON')"
   ]
  },
  {
   "cell_type": "code",
   "execution_count": null,
   "metadata": {
    "collapsed": true
   },
   "outputs": [],
   "source": [
    "ccg_geo = 'ccgs.json'\n",
    "\n",
    "map = folium.Map(location=[54.2, -2.45], zoom_start=5)\n",
    "map.geo_json(geo_path=ccg_geo, data_out='Feb2014CodeineByCCG.json', data=grouped3,\n",
    "      columns=['CCG13CD', 'QUANTITY_IN_MG_PER_PERSON'],\n",
    "      key_on='feature.properties.CCG13CD',\n",
    "      fill_color='PuBu', fill_opacity=0.7, line_opacity=0.3,\n",
    "      legend_name='Codeine prescribed per person by CCG for Feb 2014 (mg)')\n",
    "map.create_map(path='Feb2014CodeineByCCG.html')"
   ]
  },
  {
   "cell_type": "code",
   "execution_count": null,
   "metadata": {
    "collapsed": true
   },
   "outputs": [],
   "source": [
    "# from IPython.display import IFrame\n",
    "# IFrame('http://127.0.0.1:8000/Feb2014CodeineByCCG.html', width=700, height=350)\n",
    "# blocks.org is fiddly with a big ccg.json.."
   ]
  },
  {
   "cell_type": "code",
   "execution_count": null,
   "metadata": {
    "collapsed": true
   },
   "outputs": [],
   "source": [
    "from IPython.display import Image\n",
    "Embed = Image('opiateanalysis.png')\n",
    "Embed\n"
   ]
  },
  {
   "cell_type": "code",
   "execution_count": null,
   "metadata": {
    "collapsed": true
   },
   "outputs": [],
   "source": [
    "for opiate in Opiates:\n",
    "  print opiate"
   ]
  },
  {
   "cell_type": "code",
   "execution_count": null,
   "metadata": {
    "collapsed": true
   },
   "outputs": [],
   "source": [
    "for opiate in Opiates:\n",
    "    df = pd.DataFrame(eval(opiate).BNF_NAME.unique())\n",
    "    df['mg of drug per unit of preparation'] = 'tbc'\n",
    "    df.to_csv('%s_for_Luke_to_complete.csv' % opiate)"
   ]
  },
  {
   "cell_type": "code",
   "execution_count": null,
   "metadata": {
    "collapsed": true
   },
   "outputs": [],
   "source": [
    "import xlrd \n",
    "import csv\n",
    "\n",
    "def csv_from_excel(excel_file):\n",
    "    \n",
    "    pathtoxls = \"/media/mydisk/prescribing_data/xls\"\n",
    "    pathtocsv = \"/media/mydisk/prescribing_data/xls/csv\"\n",
    "    os.chdir(pathtoxls)\n",
    "\n",
    "    workbook = xlrd.open_workbook(excel_file)\n",
    "    all_worksheets = workbook.sheet_names()\n",
    "    for worksheet_name in all_worksheets:\n",
    "        worksheet = workbook.sheet_by_name(worksheet_name)\n",
    "        your_csv_file = open(''.join([worksheet_name,'.csv']), 'wb')\n",
    "        wr = csv.writer(your_csv_file, quoting=csv.QUOTE_ALL)\n",
    "\n",
    "        for rownum in xrange(worksheet.nrows):\n",
    "            wr.writerow([unicode(entry).encode(\"utf-8\") for entry in worksheet.row_values(rownum)])\n",
    "        your_csv_file.close()\n",
    "        \n",
    "   "
   ]
  },
  {
   "cell_type": "code",
   "execution_count": null,
   "metadata": {
    "collapsed": true
   },
   "outputs": [],
   "source": [
    "csv_from_excel('/media/mydisk/prescribing_data/xls/Opiates.xls')\n"
   ]
  },
  {
   "cell_type": "code",
   "execution_count": null,
   "metadata": {
    "collapsed": true
   },
   "outputs": [],
   "source": [
    "cd /media/mydisk/prescribing_data/xls/csv"
   ]
  },
  {
   "cell_type": "code",
   "execution_count": null,
   "metadata": {
    "collapsed": true
   },
   "outputs": [],
   "source": [
    "#Buprenorphine\n",
    "#work out quantity in mg from prep information and quantity\n",
    "df = pd.read_csv('Buprenorphine.csv') #lookup prepared by colleague\n",
    "Buprenorphine['BNF_NAME'] = Buprenorphine['BNF_NAME'].map(str.strip) #get rid of white space\n",
    "buprenorphine_preps = Buprenorphine['BNF_NAME'].unique().tolist() #get a list of preparation names\n",
    "buprenorphine_doses = df['mg of drug per unit of preparation'].str.replace('mg', '').astype(float).tolist() #remove the mg my collaborator added\n",
    "buprenorphine_dose_lookup = dict(zip(buprenorphine_preps, buprenorphine_doses)) #make dict of prep names and codeine doses\n",
    "Buprenorphine['QUANTITY_IN_MG'] = Buprenorphine['BNF_NAME'].map(lambda x: buprenorphine_dose_lookup[x]) * Buprenorphine['QUANTITY']"
   ]
  },
  {
   "cell_type": "code",
   "execution_count": null,
   "metadata": {
    "collapsed": true
   },
   "outputs": [],
   "source": [
    "#Dihydrocodeine\n",
    "#work out quantity in mg from prep information and quantity\n",
    "df = pd.read_csv('Dihydrocodeine.csv') #lookup prepared by colleague\n",
    "Dihydrocodeine['BNF_NAME'] = Dihydrocodeine['BNF_NAME'].map(str.strip) #get rid of white space\n",
    "dihydrocodeine_preps = Dihydrocodeine['BNF_NAME'].unique().tolist() #get a list of preparation names\n",
    "dihydrocodeine_doses = df['mg of drug per unit of preparation'].str.replace('mg', '').astype(float).tolist() #remove the mg my collaborator added\n",
    "dihydrocodeine_dose_lookup = dict(zip(dihydrocodeine_preps, dihydrocodeine_doses)) #make dict of prep names and codeine doses\n",
    "Dihydrocodeine['QUANTITY_IN_MG'] = Dihydrocodeine['BNF_NAME'].map(lambda x: dihydrocodeine_dose_lookup[x]) * Dihydrocodeine['QUANTITY']"
   ]
  },
  {
   "cell_type": "code",
   "execution_count": null,
   "metadata": {
    "collapsed": true
   },
   "outputs": [],
   "source": [
    "#Tramadol\n",
    "#work out quantity in mg from prep information and quantity\n",
    "df = pd.read_csv('Tramadol.csv') #lookup prepared by colleague\n",
    "Tramadol['BNF_NAME'] = Tramadol['BNF_NAME'].map(str.strip) #get rid of white space\n",
    "tramadol_preps = Tramadol['BNF_NAME'].unique().tolist() #get a list of preparation names\n",
    "tramadol_doses = df['mg of drug per unit of preparation'].tolist() #remove the mg my collaborator added\n",
    "tramadol_dose_lookup = dict(zip(tramadol_preps, tramadol_doses)) #make dict of prep names and codeine doses\n",
    "Tramadol['QUANTITY_IN_MG'] = Tramadol['BNF_NAME'].map(lambda x: tramadol_dose_lookup[x]) * Tramadol['QUANTITY']"
   ]
  },
  {
   "cell_type": "code",
   "execution_count": null,
   "metadata": {
    "collapsed": true
   },
   "outputs": [],
   "source": [
    "#Tapentadol\n",
    "#work out quantity in mg from prep information and quantity\n",
    "df = pd.read_csv('Tapentadol.csv') #lookup prepared by colleague\n",
    "Tapentadol['BNF_NAME'] = Tapentadol['BNF_NAME'].map(str.strip) #get rid of white space\n",
    "tapentadol_preps = Tapentadol['BNF_NAME'].unique().tolist() #get a list of preparation names\n",
    "tapentadol_doses = df['mg of drug per unit of preparation'].tolist() #remove the mg my collaborator added\n",
    "tapentadol_dose_lookup = dict(zip(tapentadol_preps, tapentadol_doses)) #make dict of prep names and codeine doses\n",
    "Tapentadol['QUANTITY_IN_MG'] = Tapentadol['BNF_NAME'].map(lambda x: tapentadol_dose_lookup[x]) * Tapentadol['QUANTITY']"
   ]
  },
  {
   "cell_type": "code",
   "execution_count": null,
   "metadata": {
    "collapsed": true
   },
   "outputs": [],
   "source": [
    "#Fentanyl\n",
    "#work out quantity in mg from prep information and quantity\n",
    "df = pd.read_csv('Fentanyl.csv') #lookup prepared by colleague\n",
    "Fentanyl['BNF_NAME'] = Fentanyl['BNF_NAME'].map(str.strip) #get rid of white space\n",
    "fentanyl_preps = Fentanyl['BNF_NAME'].unique().tolist() #get a list of preparation names\n",
    "fentanyl_doses = df['mg of drug per unit of preparation'].tolist() #remove the mg my collaborator added\n",
    "fentanyl_dose_lookup = dict(zip(fentanyl_preps, fentanyl_doses)) #make dict of prep names and codeine doses\n",
    "Fentanyl['QUANTITY_IN_MG'] = Fentanyl['BNF_NAME'].map(lambda x: fentanyl_dose_lookup[x]) * Fentanyl['QUANTITY']"
   ]
  },
  {
   "cell_type": "code",
   "execution_count": null,
   "metadata": {
    "collapsed": true
   },
   "outputs": [],
   "source": [
    "#Methadone\n",
    "#work out quantity in mg from prep information and quantity\n",
    "df = pd.read_csv('Methadone.csv') #lookup prepared by colleague\n",
    "Methadone['BNF_NAME'] = Methadone['BNF_NAME'].map(str.strip) #get rid of white space\n",
    "methadone_preps = Methadone['BNF_NAME'].unique().tolist() #get a list of preparation names\n",
    "methadone_doses = df['mg of drug per unit of preparation'].str.replace('tbc', '0')#remove the mg my collaborator added\n",
    "methadone_doses = methadone_doses.astype(float).tolist()\n",
    "methadone_dose_lookup = dict(zip(methadone_preps, methadone_doses)) #make dict of prep names and codeine doses\n",
    "Methadone['QUANTITY_IN_MG'] = Methadone['BNF_NAME'].map(lambda x: methadone_dose_lookup[x]) * Methadone['QUANTITY']"
   ]
  },
  {
   "cell_type": "code",
   "execution_count": null,
   "metadata": {
    "collapsed": true
   },
   "outputs": [],
   "source": [
    "#Morphine\n",
    "#work out quantity in mg from prep information and quantity\n",
    "df = pd.read_csv('Morphine.csv') #lookup prepared by colleague\n",
    "Morph['BNF_NAME'] = Morph['BNF_NAME'].map(str.strip) #get rid of white space\n",
    "morphine_preps = Morph['BNF_NAME'].unique().tolist() #get a list of preparation names\n",
    "morphine_doses = df['mg of drug per unit of preparation'].str.replace('tbc', '0')\n",
    "morphine_doses = morphine_doses.astype(float).tolist() #remove the mg my collaborator added\n",
    "morphine_dose_lookup = dict(zip(morphine_preps, morphine_doses)) #make dict of prep names and codeine doses\n",
    "Morph['QUANTITY_IN_MG'] = Morph['BNF_NAME'].map(lambda x: morphine_dose_lookup[x]) * Morph['QUANTITY']"
   ]
  },
  {
   "cell_type": "code",
   "execution_count": null,
   "metadata": {
    "collapsed": true
   },
   "outputs": [],
   "source": [
    "#Oxycodone\n",
    "#work out quantity in mg from prep information and quantity\n",
    "df = pd.read_csv('Oxycodone.csv') #lookup prepared by colleague\n",
    "Oxycodone['BNF_NAME'] = Oxycodone['BNF_NAME'].map(str.strip) #get rid of white space\n",
    "oxycodone_preps = Oxycodone['BNF_NAME'].unique().tolist() #get a list of preparation names\n",
    "oxycodone_doses = df['mg of drug per unit of preparation'].tolist()\n",
    "oxycodone_dose_lookup = dict(zip(oxycodone_preps, oxycodone_doses)) #make dict of prep names and codeine doses\n",
    "Oxycodone['QUANTITY_IN_MG'] = Oxycodone['BNF_NAME'].map(lambda x: oxycodone_dose_lookup[x]) * Oxycodone['QUANTITY']"
   ]
  },
  {
   "cell_type": "code",
   "execution_count": null,
   "metadata": {
    "collapsed": true
   },
   "outputs": [],
   "source": [
    "Opiates"
   ]
  },
  {
   "cell_type": "code",
   "execution_count": null,
   "metadata": {
    "collapsed": true
   },
   "outputs": [],
   "source": [
    "#do what we should have done ages ago and concat the dataframes\n",
    "df_list = [Codeine, Dihydrocodeine, Tramadol, Tapentadol, Buprenorphine, Fentanyl, Methadone, Morph, Oxycodone]\n",
    "AllOpiates = pd.concat(df_list) \n",
    "\n",
    "#add gp to ccg datas\n",
    "AllOpiatesCCG = pd.merge(AllOpiates, gp2ccg, on='PRACTICE')\n",
    "\n",
    "#add per person quantity using gp pops\n",
    "AllOpiatesCCG['QUANTITY_IN_MG_PER_PERSON'] = AllOpiatesCCG['QUANTITY_IN_MG'] / AllOpiatesCCG['Population']\n",
    "\n",
    "#save the output\n",
    "os.chdir(pathtopickles)\n",
    "AllOpiates.to_pickle('AllOpiates.pkl')\n",
    "AllOpiatesCCG.to_pickle('AllOpiatesCCG.pkl')\n"
   ]
  },
  {
   "cell_type": "code",
   "execution_count": null,
   "metadata": {
    "collapsed": true
   },
   "outputs": [],
   "source": [
    "#load pickles\n",
    "pathtopickles = '/media/mydisk/prescribing_data/pickles/'\n",
    "os.chdir(pathtopickles)\n",
    "\n",
    "AllOpiates = pd.read_pickle('AllOpiates.pkl')\n",
    "AllOpiatesCCG = pd.read_pickle('AllOpiatesCCG.pkl')"
   ]
  },
  {
   "cell_type": "code",
   "execution_count": null,
   "metadata": {
    "collapsed": true
   },
   "outputs": [],
   "source": [
    "Allgrpd = AllOpiatesCCG.groupby(['CCG13CD', 'DateTime']).QUANTITY_IN_MG.sum() #group by ccg and date time, sum the mg of codeine\n",
    "Allgrpd = DataFrame(Allgrpd).reset_index()\n",
    "Allgrpd2 = pd.merge(Allgrpd, ccg_pop, on='CCG13CD')\n",
    "Allgrpd2['QUANTITY_IN_MG_PER_PERSON'] = Allgrpd2['QUANTITY_IN_MG'] / Allgrpd2['Population'] \n"
   ]
  },
  {
   "cell_type": "code",
   "execution_count": null,
   "metadata": {
    "collapsed": true
   },
   "outputs": [],
   "source": [
    "Allgrpd2.QUANTITY_IN_MG_PER_PERSON.describe()"
   ]
  },
  {
   "cell_type": "code",
   "execution_count": null,
   "metadata": {
    "collapsed": true
   },
   "outputs": [],
   "source": [
    "Allgrpd2.index = Allgrpd2.DateTime\n",
    "plt.title('Monthly mg per person of all opiates presribed by CCG')\n",
    "plt.ylim((0,400))\n",
    "\n",
    "\n",
    "for ccg in Allgrpd2.CCG_Name.unique()[:5]:\n",
    "    Allgrpd2[Allgrpd2['CCG_Name'] == ccg].QUANTITY_IN_MG_PER_PERSON.plot(label=ccg, figsize=(9,9))\n",
    "    \n",
    "legend(loc='upper left', frameon=False )\n"
   ]
  },
  {
   "cell_type": "code",
   "execution_count": null,
   "metadata": {
    "collapsed": true
   },
   "outputs": [],
   "source": [
    "Allgrpd3 = Allgrpd2['2014-02-01'] #cut of most recent data"
   ]
  },
  {
   "cell_type": "code",
   "execution_count": null,
   "metadata": {
    "collapsed": true
   },
   "outputs": [],
   "source": [
    "Allgrpd3.QUANTITY_IN_MG_PER_PERSON.describe()"
   ]
  },
  {
   "cell_type": "code",
   "execution_count": null,
   "metadata": {
    "collapsed": true
   },
   "outputs": [],
   "source": [
    "Allgrpd3.QUANTITY_IN_MG_PER_PERSON.median()"
   ]
  },
  {
   "cell_type": "code",
   "execution_count": null,
   "metadata": {
    "collapsed": true
   },
   "outputs": [],
   "source": [
    "Allgrpd3.head()"
   ]
  },
  {
   "cell_type": "code",
   "execution_count": null,
   "metadata": {
    "collapsed": true
   },
   "outputs": [],
   "source": [
    "Allgrpd3.boxplot(column='QUANTITY_IN_MG_PER_PERSON')"
   ]
  },
  {
   "cell_type": "code",
   "execution_count": null,
   "metadata": {
    "collapsed": true
   },
   "outputs": [],
   "source": [
    "Allgrpd3.QUANTITY_IN_MG_PER_PERSON.hist()"
   ]
  },
  {
   "cell_type": "code",
   "execution_count": null,
   "metadata": {
    "collapsed": true
   },
   "outputs": [],
   "source": [
    "import folium\n",
    "ccg_geo = 'ccgs.json'\n",
    "\n",
    "map = folium.Map(location=[54.2, -2.45], zoom_start=5)\n",
    "map.geo_json(geo_path=ccg_geo, data_out='OpiateByCCG.json', data=Allgrpd3,\n",
    "      columns=['CCG13CD', 'QUANTITY_IN_MG_PER_PERSON'],\n",
    "      key_on='feature.properties.CCG13CD',\n",
    "      fill_color='PuBu', fill_opacity=0.7, line_opacity=0.3,\n",
    "      legend_name='Opiates prescribed per person by CCG for Feb 2014 (mg)')\n",
    "map.create_map(path='Feb2014OpiatesByCCG.html')"
   ]
  },
  {
   "cell_type": "code",
   "execution_count": null,
   "metadata": {
    "collapsed": true
   },
   "outputs": [],
   "source": [
    "from IPython.display import Image\n",
    "Embed = Image('opiateanalysis2.png')\n",
    "Embed\n"
   ]
  },
  {
   "cell_type": "code",
   "execution_count": null,
   "metadata": {
    "collapsed": true
   },
   "outputs": [],
   "source": [
    "AllOpiatesCCG.groupby('PRACTICE').QUANTITY_IN_MG_PER_PERSON.max().max()"
   ]
  },
  {
   "cell_type": "code",
   "execution_count": null,
   "metadata": {
    "collapsed": true
   },
   "outputs": [],
   "source": [
    "AllOpiatesCCG[AllOpiatesCCG['QUANTITY_IN_MG_PER_PERSON'] > 300][:5] #who's that?"
   ]
  },
  {
   "cell_type": "code",
   "execution_count": null,
   "metadata": {
    "collapsed": true
   },
   "outputs": [],
   "source": [
    "AllOpiatesCCG.PRACTICE.nunique()"
   ]
  },
  {
   "cell_type": "code",
   "execution_count": null,
   "metadata": {
    "collapsed": true
   },
   "outputs": [],
   "source": [
    "Allgrpd2.groupby(['DateTime', 'CCG_Name'])['QUANTITY_IN_MG_PER_PERSON'].sum().to_csv('ccgopiatetotals.csv')"
   ]
  },
  {
   "cell_type": "code",
   "execution_count": null,
   "metadata": {
    "collapsed": true
   },
   "outputs": [],
   "source": [
    "Allgrpd2.groupby(['DateTime', 'CCG_Name'])['QUANTITY_IN_MG_PER_PERSON'].sum()"
   ]
  },
  {
   "cell_type": "code",
   "execution_count": null,
   "metadata": {
    "collapsed": true
   },
   "outputs": [],
   "source": [
    "for i, item in enumerate(df_list):\n",
    "    df_list[i] = pd.merge(df_list[i], gp2ccg, on='PRACTICE')\n",
    "    df_list[i] = df_list[i].groupby(['CCG13CD', 'DateTime']).QUANTITY_IN_MG.sum() #group by ccg and date time, sum the mg of codeine\n",
    "    df_list[i] = DataFrame(df_list[i]).reset_index()\n",
    "    df_list[i] = pd.merge(df_list[i], ccg_pop, on='CCG13CD')\n",
    "    df_list[i]['QUANTITY_IN_MG_PER_PERSON'] = df_list[i]['QUANTITY_IN_MG'] / df_list[i]['Population'] \n",
    "    df_list[i].QUANTITY_IN_MG_PER_PERSON.describe()"
   ]
  },
  {
   "cell_type": "code",
   "execution_count": null,
   "metadata": {
    "collapsed": true
   },
   "outputs": [],
   "source": [
    "for i, item in enumerate(df_list):\n",
    "    df_list[i].groupby(['DateTime', 'CCG_Name'])['QUANTITY_IN_MG_PER_PERSON'].sum().to_csv('%stotals.csv' % Opiates[i])"
   ]
  },
  {
   "cell_type": "code",
   "execution_count": null,
   "metadata": {
    "collapsed": true
   },
   "outputs": [],
   "source": [
    "ls GP*"
   ]
  },
  {
   "cell_type": "code",
   "execution_count": null,
   "metadata": {
    "collapsed": true
   },
   "outputs": [],
   "source": [
    "gps = pd.read_csv('GP_registered_patients_2012.csv')\n"
   ]
  },
  {
   "cell_type": "code",
   "execution_count": null,
   "metadata": {
    "collapsed": true
   },
   "outputs": [],
   "source": [
    "gps.CCG_Code.nunique()"
   ]
  },
  {
   "cell_type": "code",
   "execution_count": null,
   "metadata": {
    "collapsed": true
   },
   "outputs": [],
   "source": [
    "df"
   ]
  }
 ],
 "metadata": {
  "kernelspec": {
   "display_name": "Python 3",
   "language": "python",
   "name": "python3"
  },
  "language_info": {
   "codemirror_mode": {
    "name": "ipython",
    "version": 3
   },
   "file_extension": ".py",
   "mimetype": "text/x-python",
   "name": "python",
   "nbconvert_exporter": "python",
   "pygments_lexer": "ipython3",
   "version": "3.5.2"
  }
 },
 "nbformat": 4,
 "nbformat_minor": 1
}
